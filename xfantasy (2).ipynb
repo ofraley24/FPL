{
 "cells": [
  {
   "cell_type": "code",
   "execution_count": 1,
   "id": "0ecdf579",
   "metadata": {
    "_cell_guid": "b1076dfc-b9ad-4769-8c92-a6c4dae69d19",
    "_uuid": "8f2839f25d086af736a60e9eeb907d3b93b6e0e5",
    "execution": {
     "iopub.execute_input": "2023-11-01T08:38:24.138885Z",
     "iopub.status.busy": "2023-11-01T08:38:24.138253Z",
     "iopub.status.idle": "2023-11-01T08:38:27.119666Z",
     "shell.execute_reply": "2023-11-01T08:38:27.118586Z"
    },
    "papermill": {
     "duration": 2.993079,
     "end_time": "2023-11-01T08:38:27.122337",
     "exception": false,
     "start_time": "2023-11-01T08:38:24.129258",
     "status": "completed"
    },
    "tags": []
   },
   "outputs": [],
   "source": [
    "import pandas as pd\n",
    "import numpy as np\n",
    "import matplotlib.pyplot as plt\n",
    "import os\n",
    "import csv\n",
    "import seaborn as sns\n",
    "from xgboost import XGBRegressor\n",
    "from sklearn.feature_selection import mutual_info_regression\n",
    "from sklearn.model_selection import train_test_split, cross_val_score\n",
    "from sklearn import metrics \n",
    "from sklearn.compose import ColumnTransformer\n",
    "from sklearn.pipeline import Pipeline\n",
    "from sklearn.impute import SimpleImputer\n",
    "from sklearn.preprocessing import OneHotEncoder, PowerTransformer, StandardScaler\n",
    "from sklearn.metrics import mean_absolute_error\n",
    "from sklearn.linear_model import ElasticNet, Lasso, Ridge\n",
    "from sklearn.ensemble import ExtraTreesRegressor, RandomForestRegressor\n",
    "from sklearn.neighbors import KNeighborsRegressor\n",
    "from sklearn.neural_network import MLPRegressor\n",
    "from sklearn.decomposition import PCA"
   ]
  },
  {
   "cell_type": "markdown",
   "id": "22153263",
   "metadata": {
    "papermill": {
     "duration": 0.004828,
     "end_time": "2023-11-01T08:38:27.132540",
     "exception": false,
     "start_time": "2023-11-01T08:38:27.127712",
     "status": "completed"
    },
    "tags": []
   },
   "source": [
    "# Data Extraction Class"
   ]
  },
  {
   "cell_type": "code",
   "execution_count": 2,
   "id": "4ad279da",
   "metadata": {
    "execution": {
     "iopub.execute_input": "2023-11-01T08:38:27.144829Z",
     "iopub.status.busy": "2023-11-01T08:38:27.144327Z",
     "iopub.status.idle": "2023-11-01T08:38:27.171158Z",
     "shell.execute_reply": "2023-11-01T08:38:27.169981Z"
    },
    "papermill": {
     "duration": 0.035672,
     "end_time": "2023-11-01T08:38:27.173343",
     "exception": false,
     "start_time": "2023-11-01T08:38:27.137671",
     "status": "completed"
    },
    "tags": []
   },
   "outputs": [],
   "source": [
    "class xFormBase:\n",
    "    def __init__(self, gw, season, form_range=4):\n",
    "        self.gw = gw\n",
    "        self.range = form_range\n",
    "        self.season = season\n",
    "        self.form_data = self.get_form_data()\n",
    "\n",
    "    def get_form_data(self):\n",
    "        data = pd.DataFrame()\n",
    "        for i in range(self.range):\n",
    "            url = self.get_url(i + 1)\n",
    "            temp = pd.read_csv(url)\n",
    "            temp = temp[['name', 'minutes', 'value', 'position', 'team', 'selected', 'bonus', 'threat', 'creativity',\n",
    "                         'influence', 'xP', 'bps', 'ict_index', 'expected_goal_involvements', 'total_points',\n",
    "                         'expected_goals', 'expected_assists', 'saves', 'expected_goals_conceded']]\n",
    "            temp = temp.set_index('name').groupby(['name', 'position', 'team']).mean()\n",
    "            data = pd.concat([data, temp])\n",
    "        data = data.groupby(['name', 'position', 'team']).mean().reset_index(['position'])\n",
    "        return data\n",
    "\n",
    "    def get_url(self, lag):\n",
    "        return 'https://raw.githubusercontent.com/vaastav/Fantasy-Premier-League/master/data/20' \\\n",
    "               + str(self.season) + '-' + str(self.season + 1) + '/gws/gw' + str(self.gw - lag) + '.csv'\n",
    "    \n",
    "    def calculate_team_defence(self): \n",
    "        data = []\n",
    "        for n in range(self.range):\n",
    "            temp = pd.read_csv(self.get_url(n+1))\n",
    "            temp = temp[['team', 'expected_goals_conceded', 'minutes']]\n",
    "            temp = temp[temp.minutes == 90]\n",
    "            temp = temp.drop('minutes', axis=1).groupby('team').mean()\n",
    "            data.append(temp) \n",
    "        return pd.concat([data[i] for i in range(self.range)]).groupby('team').mean().expected_goals_conceded\n",
    "            \n",
    "    def calculate_team_attack(self):\n",
    "        data = []\n",
    "        for n in range(self.range):\n",
    "            temp = pd.read_csv(self.get_url(n+1))\n",
    "            temp = temp[['name','team', 'expected_goals']]\n",
    "            temp = temp.groupby(['name', 'team']).mean()\n",
    "            temp = temp.groupby(['team']).sum()\n",
    "            data.append(temp)   \n",
    "        return pd.concat([data[i] for i in range(self.range)]).groupby('team').mean().expected_goals\n",
    "\n",
    "class xFormTrain(xFormBase):\n",
    "    def __init__(self, gw, season):\n",
    "        super().__init__(gw, season)\n",
    "        self.gw_data = self.get_gw_data()\n",
    "        self.df = self.join_and_refine()\n",
    "\n",
    "    def get_gw_data(self):\n",
    "        url = self.get_url(0)\n",
    "        data = pd.read_csv(url)\n",
    "        data = data[['name', 'team', 'was_home', 'total_points', 'opponent_team']]\n",
    "        data = data.rename(columns={'total_points': 'points_scored'})\n",
    "        team_defence = self.calculate_team_defence()\n",
    "        team_attack = self.calculate_team_attack()\n",
    "        data['opponent_defence'] = data.opponent_team.apply(lambda x: team_defence[x - 1])\n",
    "        data['opponent_attack'] = data.opponent_team.apply(lambda x: team_attack[x - 1])\n",
    "        data['team_defence'] = data.team.apply(lambda x: team_defence[x])\n",
    "        data = data.drop(['opponent_team'], axis=1).groupby(['name', 'team']).mean()\n",
    "        return data\n",
    "\n",
    "    def join_and_refine(self):\n",
    "        df = self.form_data.join(self.gw_data, on=['name', 'team'])\n",
    "        df_refined = df[(df.minutes > 60)]\n",
    "        df_refined = df_refined[(df_refined.expected_goals + df_refined.expected_assists) > 0.0]\n",
    "        df_refined = df_refined[(df_refined.points_scored > 0)]\n",
    "        df_refined = df_refined[df_refined.points_scored.isnull() == False]\n",
    "                                \n",
    "        return df_refined\n",
    "                            \n",
    "\n",
    "\n",
    "class xFormFixture(xFormBase):\n",
    "    def __init__(self, gw, value, season=23):\n",
    "        super().__init__(gw, season)\n",
    "        self.value = value\n",
    "        self.df = self.get_fixture_data()\n",
    "\n",
    "    def get_fixture_data(self):\n",
    "        fixtures = pd.read_csv('/kaggle/input/prem-fixtures/fixtures.csv') \\\n",
    "            [['Round Number', 'Home Team', 'Away Team']] \\\n",
    "            .replace({'Nottingham Forest': 'Forest'})\n",
    "        fixtures = fixtures[(fixtures['Round Number'] == self.gw)]\n",
    "        form = self.form_data.reset_index(['team']).replace({'Nott\\'m Forest': 'Forest'})\n",
    "        dictionary = {}\n",
    "        for i, team in enumerate(form.team):\n",
    "            if (fixtures['Home Team'] == team).any():\n",
    "                home = 1\n",
    "                oppo = fixtures[(fixtures['Home Team'] == team)]['Away Team'].item()\n",
    "                dictionary[i] = []\n",
    "                dictionary[i].append(home)\n",
    "                dictionary[i].append(oppo)\n",
    "            else:\n",
    "                home = 0\n",
    "                oppo = fixtures[(fixtures['Away Team'] == team)]['Home Team'].item()\n",
    "                dictionary[i] = []\n",
    "                dictionary[i].append(home)\n",
    "                dictionary[i].append(oppo)\n",
    "        form.set_index('team')\n",
    "        df = pd.DataFrame(dictionary)\n",
    "        df = df.transpose().set_index(form.index)\n",
    "        df.columns = ['was_home', 'oppo']\n",
    "        data = form.join(df, on=['name'])\n",
    "        data = data.replace({'Forest': 'Nott\\'m Forest'})\n",
    "        team_defence = self.calculate_team_defence()\n",
    "        team_attack = self.calculate_team_attack()\n",
    "        data['opponent_defence'] = data.oppo.apply(lambda x: team_defence[x])\n",
    "        data['opponent_attack'] = data.oppo.apply(lambda x: team_attack[x])\n",
    "        data['team_defence'] = data.team.apply(lambda x: team_defence[x])\n",
    "        data = data.drop(['oppo', 'team'], axis=1)\n",
    "        data = data[data.value < self.value]\n",
    "        data = data[(data.minutes > 60)]\n",
    "        data = data[(data.expected_goals + data.expected_assists) > 0.0]\n",
    "        return data"
   ]
  },
  {
   "cell_type": "markdown",
   "id": "ad3241c2",
   "metadata": {
    "papermill": {
     "duration": 0.00479,
     "end_time": "2023-11-01T08:38:27.183550",
     "exception": false,
     "start_time": "2023-11-01T08:38:27.178760",
     "status": "completed"
    },
    "tags": []
   },
   "source": [
    "# Create Dataset"
   ]
  },
  {
   "cell_type": "code",
   "execution_count": 3,
   "id": "869302ae",
   "metadata": {
    "execution": {
     "iopub.execute_input": "2023-11-01T08:38:27.195621Z",
     "iopub.status.busy": "2023-11-01T08:38:27.195239Z",
     "iopub.status.idle": "2023-11-01T08:38:27.205700Z",
     "shell.execute_reply": "2023-11-01T08:38:27.204604Z"
    },
    "papermill": {
     "duration": 0.019132,
     "end_time": "2023-11-01T08:38:27.207853",
     "exception": false,
     "start_time": "2023-11-01T08:38:27.188721",
     "status": "completed"
    },
    "tags": []
   },
   "outputs": [],
   "source": [
    "def get_dataset(position, data, pred=False):\n",
    "    if pred:\n",
    "        if position == 'GK':\n",
    "            pos_data = data.loc[data.position == position][['xP', 'saves', 'opponent_attack', 'team_defence', 'was_home']]\n",
    "        elif position == 'DEF':\n",
    "            pos_data = data.loc[data.position == position][['xP', 'opponent_attack','expected_goal_involvements','ict_index', 'team_defence','total_points','was_home']]  \n",
    "        else:\n",
    "            pos_data = data.loc[data.position == position][['xP', 'bps', 'expected_goal_involvements', 'ict_index', 'opponent_defence', 'was_home']]\n",
    "    else:\n",
    "        if position == 'GK':\n",
    "            pos_data = data.loc[data.position == position][['xP', 'saves', 'opponent_attack', 'team_defence', 'was_home', 'points_scored']]\n",
    "        elif position == 'DEF':\n",
    "            pos_data = data.loc[data.position == position][['xP', 'opponent_attack','expected_goal_involvements','ict_index', 'team_defence','total_points','was_home', 'points_scored']]  \n",
    "        else:\n",
    "            pos_data = data.loc[data.position == position][['xP', 'bps', 'expected_goal_involvements', 'ict_index', 'opponent_defence', 'was_home', 'points_scored']]\n",
    "    X = pos_data\n",
    "    X_dummies = pd.get_dummies(X['was_home'], prefix='was_home')\n",
    "    if not pred: \n",
    "        column_mapping = {\n",
    "        'was_home_1.0': 'home',\n",
    "        'was_home_0.0': 'away',\n",
    "        'was_home_0.5' : 'both'\n",
    "        }\n",
    "        X_dummies = X_dummies.rename(columns=column_mapping)\n",
    "        X = pd.concat([X, X_dummies], axis=1).drop(['was_home','both'], axis=1)\n",
    "    else:\n",
    "        column_mapping = {\n",
    "        'was_home_1':'home',\n",
    "        'was_home_0':'away'\n",
    "        }\n",
    "        X_dummies = X_dummies.rename(columns=column_mapping)\n",
    "        X = pd.concat([X, X_dummies], axis=1).drop(['was_home'], axis=1)\n",
    "        \n",
    "    return X"
   ]
  },
  {
   "cell_type": "code",
   "execution_count": 4,
   "id": "6ddf0e6e",
   "metadata": {
    "execution": {
     "iopub.execute_input": "2023-11-01T08:38:27.219883Z",
     "iopub.status.busy": "2023-11-01T08:38:27.219465Z",
     "iopub.status.idle": "2023-11-01T08:38:52.119685Z",
     "shell.execute_reply": "2023-11-01T08:38:52.118336Z"
    },
    "papermill": {
     "duration": 24.909481,
     "end_time": "2023-11-01T08:38:52.122511",
     "exception": false,
     "start_time": "2023-11-01T08:38:27.213030",
     "status": "completed"
    },
    "tags": []
   },
   "outputs": [],
   "source": [
    "data = xFormTrain(21, 22).df\n",
    "for i in range(17):\n",
    "    data = pd.concat([data, xFormTrain(22+i, 22).df])\n",
    "for i in range(5):\n",
    "    data = pd.concat([data, xFormTrain(5+i, 23).df])"
   ]
  },
  {
   "cell_type": "code",
   "execution_count": 5,
   "id": "cbbb88d1",
   "metadata": {
    "execution": {
     "iopub.execute_input": "2023-11-01T08:38:52.135065Z",
     "iopub.status.busy": "2023-11-01T08:38:52.134661Z",
     "iopub.status.idle": "2023-11-01T08:38:52.152429Z",
     "shell.execute_reply": "2023-11-01T08:38:52.150944Z"
    },
    "papermill": {
     "duration": 0.027343,
     "end_time": "2023-11-01T08:38:52.155248",
     "exception": false,
     "start_time": "2023-11-01T08:38:52.127905",
     "status": "completed"
    },
    "tags": []
   },
   "outputs": [],
   "source": [
    "X = get_dataset('DEF', data)\n",
    "y = X.pop('points_scored')\n",
    "X_train, X_test, y_train, y_test = train_test_split(X, y, random_state=1)"
   ]
  },
  {
   "cell_type": "code",
   "execution_count": 6,
   "id": "47bd95f7",
   "metadata": {
    "execution": {
     "iopub.execute_input": "2023-11-01T08:38:52.168514Z",
     "iopub.status.busy": "2023-11-01T08:38:52.167688Z",
     "iopub.status.idle": "2023-11-01T08:38:52.176922Z",
     "shell.execute_reply": "2023-11-01T08:38:52.175919Z"
    },
    "papermill": {
     "duration": 0.018511,
     "end_time": "2023-11-01T08:38:52.179037",
     "exception": false,
     "start_time": "2023-11-01T08:38:52.160526",
     "status": "completed"
    },
    "tags": []
   },
   "outputs": [
    {
     "data": {
      "text/plain": [
       "1149"
      ]
     },
     "execution_count": 6,
     "metadata": {},
     "output_type": "execute_result"
    }
   ],
   "source": [
    "len(X)"
   ]
  },
  {
   "cell_type": "markdown",
   "id": "78e2692d",
   "metadata": {
    "papermill": {
     "duration": 0.005815,
     "end_time": "2023-11-01T08:38:52.190270",
     "exception": false,
     "start_time": "2023-11-01T08:38:52.184455",
     "status": "completed"
    },
    "tags": []
   },
   "source": [
    "# Fit the Model"
   ]
  },
  {
   "cell_type": "code",
   "execution_count": 7,
   "id": "26d992a2",
   "metadata": {
    "execution": {
     "iopub.execute_input": "2023-11-01T08:38:52.204158Z",
     "iopub.status.busy": "2023-11-01T08:38:52.203451Z",
     "iopub.status.idle": "2023-11-01T08:38:52.212149Z",
     "shell.execute_reply": "2023-11-01T08:38:52.210643Z"
    },
    "papermill": {
     "duration": 0.018529,
     "end_time": "2023-11-01T08:38:52.214804",
     "exception": false,
     "start_time": "2023-11-01T08:38:52.196275",
     "status": "completed"
    },
    "tags": []
   },
   "outputs": [],
   "source": [
    "def fit_and_test(X_train, X_val, Y_train, Y_val, model): \n",
    "    model.fit(X_train, Y_train)\n",
    "    predictions = pd.DataFrame(model.predict(X_val), index=X_val.index, columns=['xP'])\n",
    "    return mean_absolute_error(predictions, Y_val)\n",
    "    \n",
    "def fit_pipe(X, y, transformer, model):\n",
    "    pipe = Pipeline(steps=[('preprocessor', transformer),\n",
    "                          ('regressor', model)])\n",
    "    scores = -1 * cross_val_score(pipe, X, y, cv=3, scoring='neg_mean_absolute_error') \n",
    "    score = scores.mean()\n",
    "    print(f'Cross Val Score {score}')\n",
    "    pipe.fit(X, y)\n",
    "    return pipe"
   ]
  },
  {
   "cell_type": "code",
   "execution_count": 8,
   "id": "26135812",
   "metadata": {
    "execution": {
     "iopub.execute_input": "2023-11-01T08:38:52.228220Z",
     "iopub.status.busy": "2023-11-01T08:38:52.227723Z",
     "iopub.status.idle": "2023-11-01T08:38:52.233713Z",
     "shell.execute_reply": "2023-11-01T08:38:52.232296Z"
    },
    "papermill": {
     "duration": 0.016019,
     "end_time": "2023-11-01T08:38:52.236407",
     "exception": false,
     "start_time": "2023-11-01T08:38:52.220388",
     "status": "completed"
    },
    "tags": []
   },
   "outputs": [],
   "source": [
    "model = Ridge()"
   ]
  },
  {
   "cell_type": "code",
   "execution_count": 9,
   "id": "8639743b",
   "metadata": {
    "execution": {
     "iopub.execute_input": "2023-11-01T08:38:52.249622Z",
     "iopub.status.busy": "2023-11-01T08:38:52.249171Z",
     "iopub.status.idle": "2023-11-01T08:38:52.285749Z",
     "shell.execute_reply": "2023-11-01T08:38:52.284448Z"
    },
    "papermill": {
     "duration": 0.046559,
     "end_time": "2023-11-01T08:38:52.288394",
     "exception": false,
     "start_time": "2023-11-01T08:38:52.241835",
     "status": "completed"
    },
    "tags": []
   },
   "outputs": [
    {
     "data": {
      "text/plain": [
       "2.3310142013508077"
      ]
     },
     "execution_count": 9,
     "metadata": {},
     "output_type": "execute_result"
    }
   ],
   "source": [
    "fit_and_test(X_train, X_test, y_train, y_test, model)"
   ]
  },
  {
   "cell_type": "code",
   "execution_count": 10,
   "id": "97782b55",
   "metadata": {
    "execution": {
     "iopub.execute_input": "2023-11-01T08:38:52.301891Z",
     "iopub.status.busy": "2023-11-01T08:38:52.301343Z",
     "iopub.status.idle": "2023-11-01T08:38:52.335101Z",
     "shell.execute_reply": "2023-11-01T08:38:52.333787Z"
    },
    "papermill": {
     "duration": 0.043662,
     "end_time": "2023-11-01T08:38:52.337616",
     "exception": false,
     "start_time": "2023-11-01T08:38:52.293954",
     "status": "completed"
    },
    "tags": []
   },
   "outputs": [
    {
     "name": "stdout",
     "output_type": "stream",
     "text": [
      "Cross Val Score 2.381635758085005\n"
     ]
    }
   ],
   "source": [
    "pipe = fit_pipe(X, y, None, model)"
   ]
  },
  {
   "cell_type": "markdown",
   "id": "d9e7f2cf",
   "metadata": {
    "papermill": {
     "duration": 0.005273,
     "end_time": "2023-11-01T08:38:52.348585",
     "exception": false,
     "start_time": "2023-11-01T08:38:52.343312",
     "status": "completed"
    },
    "tags": []
   },
   "source": [
    "# Pricipal Component Analysis"
   ]
  },
  {
   "cell_type": "code",
   "execution_count": 11,
   "id": "9ccb00a6",
   "metadata": {
    "execution": {
     "iopub.execute_input": "2023-11-01T08:38:52.363190Z",
     "iopub.status.busy": "2023-11-01T08:38:52.362707Z",
     "iopub.status.idle": "2023-11-01T08:38:52.370791Z",
     "shell.execute_reply": "2023-11-01T08:38:52.369501Z"
    },
    "papermill": {
     "duration": 0.018824,
     "end_time": "2023-11-01T08:38:52.373806",
     "exception": false,
     "start_time": "2023-11-01T08:38:52.354982",
     "status": "completed"
    },
    "tags": []
   },
   "outputs": [],
   "source": [
    "def pc_transform(X, pca, ss):\n",
    "    X_pca = pca.transform(ss.transform(X))\n",
    "    component_names = [f\"PC{i+1}\" for i in range(X_pca.shape[1])]\n",
    "    X_pca = pd.DataFrame(X_pca, columns=component_names)\n",
    "    return X_pca\n",
    "\n",
    "def pc_fit_transform(X):\n",
    "    ss = StandardScaler()\n",
    "    pca = PCA()\n",
    "    X_pca = pca.fit_transform(ss.fit_transform(X))\n",
    "    component_names = [f\"PC{i+1}\" for i in range(X_pca.shape[1])]\n",
    "    X_pca = pd.DataFrame(X_pca, columns=component_names)\n",
    "    loadings = pd.DataFrame(\n",
    "        pca.components_.T,\n",
    "        columns=component_names, \n",
    "        index=X.columns,\n",
    "    )\n",
    "    return ss, pca, X_pca, loadings"
   ]
  },
  {
   "cell_type": "code",
   "execution_count": 12,
   "id": "3802d8e7",
   "metadata": {
    "execution": {
     "iopub.execute_input": "2023-11-01T08:38:52.389209Z",
     "iopub.status.busy": "2023-11-01T08:38:52.387795Z",
     "iopub.status.idle": "2023-11-01T08:38:52.440190Z",
     "shell.execute_reply": "2023-11-01T08:38:52.438245Z"
    },
    "papermill": {
     "duration": 0.063872,
     "end_time": "2023-11-01T08:38:52.444127",
     "exception": false,
     "start_time": "2023-11-01T08:38:52.380255",
     "status": "completed"
    },
    "tags": []
   },
   "outputs": [
    {
     "name": "stdout",
     "output_type": "stream",
     "text": [
      "Cross Val Score 2.38127191807989\n"
     ]
    },
    {
     "data": {
      "text/html": [
       "<style>#sk-container-id-1 {color: black;background-color: white;}#sk-container-id-1 pre{padding: 0;}#sk-container-id-1 div.sk-toggleable {background-color: white;}#sk-container-id-1 label.sk-toggleable__label {cursor: pointer;display: block;width: 100%;margin-bottom: 0;padding: 0.3em;box-sizing: border-box;text-align: center;}#sk-container-id-1 label.sk-toggleable__label-arrow:before {content: \"▸\";float: left;margin-right: 0.25em;color: #696969;}#sk-container-id-1 label.sk-toggleable__label-arrow:hover:before {color: black;}#sk-container-id-1 div.sk-estimator:hover label.sk-toggleable__label-arrow:before {color: black;}#sk-container-id-1 div.sk-toggleable__content {max-height: 0;max-width: 0;overflow: hidden;text-align: left;background-color: #f0f8ff;}#sk-container-id-1 div.sk-toggleable__content pre {margin: 0.2em;color: black;border-radius: 0.25em;background-color: #f0f8ff;}#sk-container-id-1 input.sk-toggleable__control:checked~div.sk-toggleable__content {max-height: 200px;max-width: 100%;overflow: auto;}#sk-container-id-1 input.sk-toggleable__control:checked~label.sk-toggleable__label-arrow:before {content: \"▾\";}#sk-container-id-1 div.sk-estimator input.sk-toggleable__control:checked~label.sk-toggleable__label {background-color: #d4ebff;}#sk-container-id-1 div.sk-label input.sk-toggleable__control:checked~label.sk-toggleable__label {background-color: #d4ebff;}#sk-container-id-1 input.sk-hidden--visually {border: 0;clip: rect(1px 1px 1px 1px);clip: rect(1px, 1px, 1px, 1px);height: 1px;margin: -1px;overflow: hidden;padding: 0;position: absolute;width: 1px;}#sk-container-id-1 div.sk-estimator {font-family: monospace;background-color: #f0f8ff;border: 1px dotted black;border-radius: 0.25em;box-sizing: border-box;margin-bottom: 0.5em;}#sk-container-id-1 div.sk-estimator:hover {background-color: #d4ebff;}#sk-container-id-1 div.sk-parallel-item::after {content: \"\";width: 100%;border-bottom: 1px solid gray;flex-grow: 1;}#sk-container-id-1 div.sk-label:hover label.sk-toggleable__label {background-color: #d4ebff;}#sk-container-id-1 div.sk-serial::before {content: \"\";position: absolute;border-left: 1px solid gray;box-sizing: border-box;top: 0;bottom: 0;left: 50%;z-index: 0;}#sk-container-id-1 div.sk-serial {display: flex;flex-direction: column;align-items: center;background-color: white;padding-right: 0.2em;padding-left: 0.2em;position: relative;}#sk-container-id-1 div.sk-item {position: relative;z-index: 1;}#sk-container-id-1 div.sk-parallel {display: flex;align-items: stretch;justify-content: center;background-color: white;position: relative;}#sk-container-id-1 div.sk-item::before, #sk-container-id-1 div.sk-parallel-item::before {content: \"\";position: absolute;border-left: 1px solid gray;box-sizing: border-box;top: 0;bottom: 0;left: 50%;z-index: -1;}#sk-container-id-1 div.sk-parallel-item {display: flex;flex-direction: column;z-index: 1;position: relative;background-color: white;}#sk-container-id-1 div.sk-parallel-item:first-child::after {align-self: flex-end;width: 50%;}#sk-container-id-1 div.sk-parallel-item:last-child::after {align-self: flex-start;width: 50%;}#sk-container-id-1 div.sk-parallel-item:only-child::after {width: 0;}#sk-container-id-1 div.sk-dashed-wrapped {border: 1px dashed gray;margin: 0 0.4em 0.5em 0.4em;box-sizing: border-box;padding-bottom: 0.4em;background-color: white;}#sk-container-id-1 div.sk-label label {font-family: monospace;font-weight: bold;display: inline-block;line-height: 1.2em;}#sk-container-id-1 div.sk-label-container {text-align: center;}#sk-container-id-1 div.sk-container {/* jupyter's `normalize.less` sets `[hidden] { display: none; }` but bootstrap.min.css set `[hidden] { display: none !important; }` so we also need the `!important` here to be able to override the default hidden behavior on the sphinx rendered scikit-learn.org. See: https://github.com/scikit-learn/scikit-learn/issues/21755 */display: inline-block !important;position: relative;}#sk-container-id-1 div.sk-text-repr-fallback {display: none;}</style><div id=\"sk-container-id-1\" class=\"sk-top-container\"><div class=\"sk-text-repr-fallback\"><pre>Pipeline(steps=[(&#x27;preprocessor&#x27;, None), (&#x27;regressor&#x27;, Ridge())])</pre><b>In a Jupyter environment, please rerun this cell to show the HTML representation or trust the notebook. <br />On GitHub, the HTML representation is unable to render, please try loading this page with nbviewer.org.</b></div><div class=\"sk-container\" hidden><div class=\"sk-item sk-dashed-wrapped\"><div class=\"sk-label-container\"><div class=\"sk-label sk-toggleable\"><input class=\"sk-toggleable__control sk-hidden--visually\" id=\"sk-estimator-id-1\" type=\"checkbox\" ><label for=\"sk-estimator-id-1\" class=\"sk-toggleable__label sk-toggleable__label-arrow\">Pipeline</label><div class=\"sk-toggleable__content\"><pre>Pipeline(steps=[(&#x27;preprocessor&#x27;, None), (&#x27;regressor&#x27;, Ridge())])</pre></div></div></div><div class=\"sk-serial\"><div class=\"sk-item\"><div class=\"sk-estimator sk-toggleable\"><input class=\"sk-toggleable__control sk-hidden--visually\" id=\"sk-estimator-id-2\" type=\"checkbox\" ><label for=\"sk-estimator-id-2\" class=\"sk-toggleable__label sk-toggleable__label-arrow\">None</label><div class=\"sk-toggleable__content\"><pre>None</pre></div></div></div><div class=\"sk-item\"><div class=\"sk-estimator sk-toggleable\"><input class=\"sk-toggleable__control sk-hidden--visually\" id=\"sk-estimator-id-3\" type=\"checkbox\" ><label for=\"sk-estimator-id-3\" class=\"sk-toggleable__label sk-toggleable__label-arrow\">Ridge</label><div class=\"sk-toggleable__content\"><pre>Ridge()</pre></div></div></div></div></div></div></div>"
      ],
      "text/plain": [
       "Pipeline(steps=[('preprocessor', None), ('regressor', Ridge())])"
      ]
     },
     "execution_count": 12,
     "metadata": {},
     "output_type": "execute_result"
    }
   ],
   "source": [
    "ss, pca, X_pca, loadings = pc_fit_transform(X)\n",
    "X_pca = X_pca.loc[:, :'PC7']\n",
    "fit_pipe(X_pca, y, None, model)"
   ]
  },
  {
   "cell_type": "markdown",
   "id": "f001134a",
   "metadata": {
    "papermill": {
     "duration": 0.00622,
     "end_time": "2023-11-01T08:38:52.457316",
     "exception": false,
     "start_time": "2023-11-01T08:38:52.451096",
     "status": "completed"
    },
    "tags": []
   },
   "source": [
    "# Predictions"
   ]
  },
  {
   "cell_type": "code",
   "execution_count": 13,
   "id": "2673b252",
   "metadata": {
    "execution": {
     "iopub.execute_input": "2023-11-01T08:38:52.473554Z",
     "iopub.status.busy": "2023-11-01T08:38:52.473140Z",
     "iopub.status.idle": "2023-11-01T08:38:52.478492Z",
     "shell.execute_reply": "2023-11-01T08:38:52.477667Z"
    },
    "papermill": {
     "duration": 0.016039,
     "end_time": "2023-11-01T08:38:52.480600",
     "exception": false,
     "start_time": "2023-11-01T08:38:52.464561",
     "status": "completed"
    },
    "tags": []
   },
   "outputs": [],
   "source": [
    "teams = ['Arsenal', 'Aston Villa','Bournemouth','Brentford', \n",
    "         'Brighton', 'Burnley', 'Chelsea','Crystal Palace',\n",
    "         'Everton','Fulham','Liverpool','Luton', 'Man City',\n",
    "         'Man Utd', 'Newcastle','Forest', \n",
    "         'Sheffield Utd','Spurs','West Ham', 'Wolves']"
   ]
  },
  {
   "cell_type": "code",
   "execution_count": 14,
   "id": "149ed5fc",
   "metadata": {
    "execution": {
     "iopub.execute_input": "2023-11-01T08:38:52.496167Z",
     "iopub.status.busy": "2023-11-01T08:38:52.495139Z",
     "iopub.status.idle": "2023-11-01T08:38:53.759285Z",
     "shell.execute_reply": "2023-11-01T08:38:53.758177Z"
    },
    "papermill": {
     "duration": 1.274779,
     "end_time": "2023-11-01T08:38:53.761921",
     "exception": false,
     "start_time": "2023-11-01T08:38:52.487142",
     "status": "completed"
    },
    "tags": []
   },
   "outputs": [],
   "source": [
    "pred_data = xFormFixture(gw=10, value=550).df"
   ]
  },
  {
   "cell_type": "code",
   "execution_count": 15,
   "id": "cd1cd6e1",
   "metadata": {
    "execution": {
     "iopub.execute_input": "2023-11-01T08:38:53.776170Z",
     "iopub.status.busy": "2023-11-01T08:38:53.775778Z",
     "iopub.status.idle": "2023-11-01T08:38:53.784632Z",
     "shell.execute_reply": "2023-11-01T08:38:53.783462Z"
    },
    "papermill": {
     "duration": 0.01888,
     "end_time": "2023-11-01T08:38:53.787169",
     "exception": false,
     "start_time": "2023-11-01T08:38:53.768289",
     "status": "completed"
    },
    "tags": []
   },
   "outputs": [],
   "source": [
    "X_pred = get_dataset('FWD', pred_data, pred=True)"
   ]
  },
  {
   "cell_type": "code",
   "execution_count": 16,
   "id": "53142456",
   "metadata": {
    "execution": {
     "iopub.execute_input": "2023-11-01T08:38:53.801735Z",
     "iopub.status.busy": "2023-11-01T08:38:53.801350Z",
     "iopub.status.idle": "2023-11-01T08:38:54.475182Z",
     "shell.execute_reply": "2023-11-01T08:38:54.473135Z"
    },
    "papermill": {
     "duration": 0.683886,
     "end_time": "2023-11-01T08:38:54.477317",
     "exception": true,
     "start_time": "2023-11-01T08:38:53.793431",
     "status": "failed"
    },
    "tags": []
   },
   "outputs": [
    {
     "ename": "ValueError",
     "evalue": "The feature names should match those that were passed during fit.\nFeature names unseen at fit time:\n- away\n- bps\n- expected_goal_involvements\n- home\n- ict_index\n- ...\nFeature names seen at fit time, yet now missing:\n- PC1\n- PC2\n- PC3\n- PC4\n- PC5\n- ...\n",
     "output_type": "error",
     "traceback": [
      "\u001b[0;31m---------------------------------------------------------------------------\u001b[0m",
      "\u001b[0;31mValueError\u001b[0m                                Traceback (most recent call last)",
      "Cell \u001b[0;32mIn[16], line 1\u001b[0m\n\u001b[0;32m----> 1\u001b[0m pred \u001b[38;5;241m=\u001b[39m pd\u001b[38;5;241m.\u001b[39mDataFrame(\u001b[43mpipe\u001b[49m\u001b[38;5;241;43m.\u001b[39;49m\u001b[43mpredict\u001b[49m\u001b[43m(\u001b[49m\u001b[43mX_pred\u001b[49m\u001b[43m)\u001b[49m, index\u001b[38;5;241m=\u001b[39mX_pred\u001b[38;5;241m.\u001b[39mindex, columns\u001b[38;5;241m=\u001b[39m[\u001b[38;5;124m'\u001b[39m\u001b[38;5;124mxP\u001b[39m\u001b[38;5;124m'\u001b[39m])\n",
      "File \u001b[0;32m/opt/conda/lib/python3.10/site-packages/sklearn/pipeline.py:481\u001b[0m, in \u001b[0;36mPipeline.predict\u001b[0;34m(self, X, **predict_params)\u001b[0m\n\u001b[1;32m    479\u001b[0m \u001b[38;5;28;01mfor\u001b[39;00m _, name, transform \u001b[38;5;129;01min\u001b[39;00m \u001b[38;5;28mself\u001b[39m\u001b[38;5;241m.\u001b[39m_iter(with_final\u001b[38;5;241m=\u001b[39m\u001b[38;5;28;01mFalse\u001b[39;00m):\n\u001b[1;32m    480\u001b[0m     Xt \u001b[38;5;241m=\u001b[39m transform\u001b[38;5;241m.\u001b[39mtransform(Xt)\n\u001b[0;32m--> 481\u001b[0m \u001b[38;5;28;01mreturn\u001b[39;00m \u001b[38;5;28;43mself\u001b[39;49m\u001b[38;5;241;43m.\u001b[39;49m\u001b[43msteps\u001b[49m\u001b[43m[\u001b[49m\u001b[38;5;241;43m-\u001b[39;49m\u001b[38;5;241;43m1\u001b[39;49m\u001b[43m]\u001b[49m\u001b[43m[\u001b[49m\u001b[38;5;241;43m1\u001b[39;49m\u001b[43m]\u001b[49m\u001b[38;5;241;43m.\u001b[39;49m\u001b[43mpredict\u001b[49m\u001b[43m(\u001b[49m\u001b[43mXt\u001b[49m\u001b[43m,\u001b[49m\u001b[43m \u001b[49m\u001b[38;5;241;43m*\u001b[39;49m\u001b[38;5;241;43m*\u001b[39;49m\u001b[43mpredict_params\u001b[49m\u001b[43m)\u001b[49m\n",
      "File \u001b[0;32m/opt/conda/lib/python3.10/site-packages/sklearn/linear_model/_base.py:354\u001b[0m, in \u001b[0;36mLinearModel.predict\u001b[0;34m(self, X)\u001b[0m\n\u001b[1;32m    340\u001b[0m \u001b[38;5;28;01mdef\u001b[39;00m \u001b[38;5;21mpredict\u001b[39m(\u001b[38;5;28mself\u001b[39m, X):\n\u001b[1;32m    341\u001b[0m \u001b[38;5;250m    \u001b[39m\u001b[38;5;124;03m\"\"\"\u001b[39;00m\n\u001b[1;32m    342\u001b[0m \u001b[38;5;124;03m    Predict using the linear model.\u001b[39;00m\n\u001b[1;32m    343\u001b[0m \n\u001b[0;32m   (...)\u001b[0m\n\u001b[1;32m    352\u001b[0m \u001b[38;5;124;03m        Returns predicted values.\u001b[39;00m\n\u001b[1;32m    353\u001b[0m \u001b[38;5;124;03m    \"\"\"\u001b[39;00m\n\u001b[0;32m--> 354\u001b[0m     \u001b[38;5;28;01mreturn\u001b[39;00m \u001b[38;5;28;43mself\u001b[39;49m\u001b[38;5;241;43m.\u001b[39;49m\u001b[43m_decision_function\u001b[49m\u001b[43m(\u001b[49m\u001b[43mX\u001b[49m\u001b[43m)\u001b[49m\n",
      "File \u001b[0;32m/opt/conda/lib/python3.10/site-packages/sklearn/linear_model/_base.py:337\u001b[0m, in \u001b[0;36mLinearModel._decision_function\u001b[0;34m(self, X)\u001b[0m\n\u001b[1;32m    334\u001b[0m \u001b[38;5;28;01mdef\u001b[39;00m \u001b[38;5;21m_decision_function\u001b[39m(\u001b[38;5;28mself\u001b[39m, X):\n\u001b[1;32m    335\u001b[0m     check_is_fitted(\u001b[38;5;28mself\u001b[39m)\n\u001b[0;32m--> 337\u001b[0m     X \u001b[38;5;241m=\u001b[39m \u001b[38;5;28;43mself\u001b[39;49m\u001b[38;5;241;43m.\u001b[39;49m\u001b[43m_validate_data\u001b[49m\u001b[43m(\u001b[49m\u001b[43mX\u001b[49m\u001b[43m,\u001b[49m\u001b[43m \u001b[49m\u001b[43maccept_sparse\u001b[49m\u001b[38;5;241;43m=\u001b[39;49m\u001b[43m[\u001b[49m\u001b[38;5;124;43m\"\u001b[39;49m\u001b[38;5;124;43mcsr\u001b[39;49m\u001b[38;5;124;43m\"\u001b[39;49m\u001b[43m,\u001b[49m\u001b[43m \u001b[49m\u001b[38;5;124;43m\"\u001b[39;49m\u001b[38;5;124;43mcsc\u001b[39;49m\u001b[38;5;124;43m\"\u001b[39;49m\u001b[43m,\u001b[49m\u001b[43m \u001b[49m\u001b[38;5;124;43m\"\u001b[39;49m\u001b[38;5;124;43mcoo\u001b[39;49m\u001b[38;5;124;43m\"\u001b[39;49m\u001b[43m]\u001b[49m\u001b[43m,\u001b[49m\u001b[43m \u001b[49m\u001b[43mreset\u001b[49m\u001b[38;5;241;43m=\u001b[39;49m\u001b[38;5;28;43;01mFalse\u001b[39;49;00m\u001b[43m)\u001b[49m\n\u001b[1;32m    338\u001b[0m     \u001b[38;5;28;01mreturn\u001b[39;00m safe_sparse_dot(X, \u001b[38;5;28mself\u001b[39m\u001b[38;5;241m.\u001b[39mcoef_\u001b[38;5;241m.\u001b[39mT, dense_output\u001b[38;5;241m=\u001b[39m\u001b[38;5;28;01mTrue\u001b[39;00m) \u001b[38;5;241m+\u001b[39m \u001b[38;5;28mself\u001b[39m\u001b[38;5;241m.\u001b[39mintercept_\n",
      "File \u001b[0;32m/opt/conda/lib/python3.10/site-packages/sklearn/base.py:548\u001b[0m, in \u001b[0;36mBaseEstimator._validate_data\u001b[0;34m(self, X, y, reset, validate_separately, **check_params)\u001b[0m\n\u001b[1;32m    483\u001b[0m \u001b[38;5;28;01mdef\u001b[39;00m \u001b[38;5;21m_validate_data\u001b[39m(\n\u001b[1;32m    484\u001b[0m     \u001b[38;5;28mself\u001b[39m,\n\u001b[1;32m    485\u001b[0m     X\u001b[38;5;241m=\u001b[39m\u001b[38;5;124m\"\u001b[39m\u001b[38;5;124mno_validation\u001b[39m\u001b[38;5;124m\"\u001b[39m,\n\u001b[0;32m   (...)\u001b[0m\n\u001b[1;32m    489\u001b[0m     \u001b[38;5;241m*\u001b[39m\u001b[38;5;241m*\u001b[39mcheck_params,\n\u001b[1;32m    490\u001b[0m ):\n\u001b[1;32m    491\u001b[0m \u001b[38;5;250m    \u001b[39m\u001b[38;5;124;03m\"\"\"Validate input data and set or check the `n_features_in_` attribute.\u001b[39;00m\n\u001b[1;32m    492\u001b[0m \n\u001b[1;32m    493\u001b[0m \u001b[38;5;124;03m    Parameters\u001b[39;00m\n\u001b[0;32m   (...)\u001b[0m\n\u001b[1;32m    546\u001b[0m \u001b[38;5;124;03m        validated.\u001b[39;00m\n\u001b[1;32m    547\u001b[0m \u001b[38;5;124;03m    \"\"\"\u001b[39;00m\n\u001b[0;32m--> 548\u001b[0m     \u001b[38;5;28;43mself\u001b[39;49m\u001b[38;5;241;43m.\u001b[39;49m\u001b[43m_check_feature_names\u001b[49m\u001b[43m(\u001b[49m\u001b[43mX\u001b[49m\u001b[43m,\u001b[49m\u001b[43m \u001b[49m\u001b[43mreset\u001b[49m\u001b[38;5;241;43m=\u001b[39;49m\u001b[43mreset\u001b[49m\u001b[43m)\u001b[49m\n\u001b[1;32m    550\u001b[0m     \u001b[38;5;28;01mif\u001b[39;00m y \u001b[38;5;129;01mis\u001b[39;00m \u001b[38;5;28;01mNone\u001b[39;00m \u001b[38;5;129;01mand\u001b[39;00m \u001b[38;5;28mself\u001b[39m\u001b[38;5;241m.\u001b[39m_get_tags()[\u001b[38;5;124m\"\u001b[39m\u001b[38;5;124mrequires_y\u001b[39m\u001b[38;5;124m\"\u001b[39m]:\n\u001b[1;32m    551\u001b[0m         \u001b[38;5;28;01mraise\u001b[39;00m \u001b[38;5;167;01mValueError\u001b[39;00m(\n\u001b[1;32m    552\u001b[0m             \u001b[38;5;124mf\u001b[39m\u001b[38;5;124m\"\u001b[39m\u001b[38;5;124mThis \u001b[39m\u001b[38;5;132;01m{\u001b[39;00m\u001b[38;5;28mself\u001b[39m\u001b[38;5;241m.\u001b[39m\u001b[38;5;18m__class__\u001b[39m\u001b[38;5;241m.\u001b[39m\u001b[38;5;18m__name__\u001b[39m\u001b[38;5;132;01m}\u001b[39;00m\u001b[38;5;124m estimator \u001b[39m\u001b[38;5;124m\"\u001b[39m\n\u001b[1;32m    553\u001b[0m             \u001b[38;5;124m\"\u001b[39m\u001b[38;5;124mrequires y to be passed, but the target y is None.\u001b[39m\u001b[38;5;124m\"\u001b[39m\n\u001b[1;32m    554\u001b[0m         )\n",
      "File \u001b[0;32m/opt/conda/lib/python3.10/site-packages/sklearn/base.py:481\u001b[0m, in \u001b[0;36mBaseEstimator._check_feature_names\u001b[0;34m(self, X, reset)\u001b[0m\n\u001b[1;32m    476\u001b[0m \u001b[38;5;28;01mif\u001b[39;00m \u001b[38;5;129;01mnot\u001b[39;00m missing_names \u001b[38;5;129;01mand\u001b[39;00m \u001b[38;5;129;01mnot\u001b[39;00m unexpected_names:\n\u001b[1;32m    477\u001b[0m     message \u001b[38;5;241m+\u001b[39m\u001b[38;5;241m=\u001b[39m (\n\u001b[1;32m    478\u001b[0m         \u001b[38;5;124m\"\u001b[39m\u001b[38;5;124mFeature names must be in the same order as they were in fit.\u001b[39m\u001b[38;5;130;01m\\n\u001b[39;00m\u001b[38;5;124m\"\u001b[39m\n\u001b[1;32m    479\u001b[0m     )\n\u001b[0;32m--> 481\u001b[0m \u001b[38;5;28;01mraise\u001b[39;00m \u001b[38;5;167;01mValueError\u001b[39;00m(message)\n",
      "\u001b[0;31mValueError\u001b[0m: The feature names should match those that were passed during fit.\nFeature names unseen at fit time:\n- away\n- bps\n- expected_goal_involvements\n- home\n- ict_index\n- ...\nFeature names seen at fit time, yet now missing:\n- PC1\n- PC2\n- PC3\n- PC4\n- PC5\n- ...\n"
     ]
    }
   ],
   "source": [
    "pred = pd.DataFrame(pipe.predict(X_pred), index=X_pred.index, columns=['xP'])"
   ]
  },
  {
   "cell_type": "code",
   "execution_count": null,
   "id": "0929a136",
   "metadata": {
    "papermill": {
     "duration": null,
     "end_time": null,
     "exception": null,
     "start_time": null,
     "status": "pending"
    },
    "tags": []
   },
   "outputs": [],
   "source": [
    "pred.sort_values(by=['xP'],ascending=False)"
   ]
  },
  {
   "cell_type": "code",
   "execution_count": null,
   "id": "7bd06c2c",
   "metadata": {
    "papermill": {
     "duration": null,
     "end_time": null,
     "exception": null,
     "start_time": null,
     "status": "pending"
    },
    "tags": []
   },
   "outputs": [],
   "source": []
  }
 ],
 "metadata": {
  "kernelspec": {
   "display_name": "Python 3",
   "language": "python",
   "name": "python3"
  },
  "language_info": {
   "codemirror_mode": {
    "name": "ipython",
    "version": 3
   },
   "file_extension": ".py",
   "mimetype": "text/x-python",
   "name": "python",
   "nbconvert_exporter": "python",
   "pygments_lexer": "ipython3",
   "version": "3.10.12"
  },
  "papermill": {
   "default_parameters": {},
   "duration": 34.394741,
   "end_time": "2023-11-01T08:38:55.205072",
   "environment_variables": {},
   "exception": true,
   "input_path": "__notebook__.ipynb",
   "output_path": "__notebook__.ipynb",
   "parameters": {},
   "start_time": "2023-11-01T08:38:20.810331",
   "version": "2.4.0"
  }
 },
 "nbformat": 4,
 "nbformat_minor": 5
}
